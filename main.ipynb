{
 "metadata": {
  "language_info": {
   "codemirror_mode": {
    "name": "ipython",
    "version": 3
   },
   "file_extension": ".py",
   "mimetype": "text/x-python",
   "name": "python",
   "nbconvert_exporter": "python",
   "pygments_lexer": "ipython3",
   "version": "3.8.5-final"
  },
  "orig_nbformat": 2,
  "kernelspec": {
   "name": "Python 3.8.5 64-bit ('machinelearning')",
   "display_name": "Python 3.8.5 64-bit ('machinelearning')",
   "metadata": {
    "interpreter": {
     "hash": "9a48ce0a9dce0028cc91da97a88b46c30134ef4ad4e2d0c0fb225006c06d8fb0"
    }
   }
  }
 },
 "nbformat": 4,
 "nbformat_minor": 2,
 "cells": [
  {
   "source": [
    "# Tensorflow Model - To Predict Music Genre\n",
    "\n",
    "Inputs:\n",
    "- acousticness\n",
    "- danceability\t\n",
    "- energy\n",
    "- instrumentalness\n",
    "- key\n",
    "- liveness\n",
    "- loudness\n",
    "- mode\n",
    "- speechiness\n",
    "- tempo\n",
    "- valence\n",
    "\n",
    "Outputs: Music Genre\n"
   ],
   "cell_type": "markdown",
   "metadata": {}
  },
  {
   "source": [
    "# Jupyter Notebook Shortcuts on VSCode\n",
    "### Command Mode\n",
    "Edit mode - Enter\n",
    "\n",
    "Command mode - ESC\n",
    "\n",
    "### Cell Type\n",
    "_In command mode_\n",
    "\n",
    "Markdown - M\n",
    "\n",
    "Code - Y\n",
    "\n",
    "### Add cell\n",
    "_In command mode_\n",
    "\n",
    "Add above - A\n",
    "\n",
    "Add below - B\n",
    "\n",
    "### Run a single cell\n",
    "curr cell - Ctrl+Enter\n",
    "\n",
    "curr cell, add next cell, focus to new cell - Shift+Enter\n",
    "\n",
    "curr cell, add next cell, focus remain curr cell - Alt+Enter\n",
    "\n"
   ],
   "cell_type": "markdown",
   "metadata": {}
  },
  {
   "cell_type": "code",
   "execution_count": 59,
   "metadata": {},
   "outputs": [],
   "source": [
    "import pandas as pd\n",
    "import numpy as np\n",
    "import tensorflow as tf\n",
    "from tensorflow.keras import layers\n",
    "from tensorflow.keras.layers.experimental import preprocessing"
   ]
  },
  {
   "cell_type": "code",
   "execution_count": 60,
   "metadata": {},
   "outputs": [],
   "source": [
    "# import data\n",
    "musicData = pd.read_csv(\"SpotifyFeatures.csv\")\n",
    "musicData = musicData.drop(['artist_name', 'track_name', 'popularity', 'track_id', 'key', 'mode', 'time_signature'], axis=1)"
   ]
  },
  {
   "cell_type": "code",
   "execution_count": 61,
   "metadata": {},
   "outputs": [
    {
     "output_type": "execute_result",
     "data": {
      "text/plain": "       genre  acousticness  danceability  duration_ms  energy  \\\n0  A Capella         0.780         0.616       223813   0.298   \n1  A Capella         0.973         0.484       154200   0.222   \n2  A Capella         0.802         0.717       137800   0.518   \n3  A Capella         0.302         0.691       183920   0.490   \n4  A Capella         0.599         0.389       181267   0.153   \n\n   instrumentalness  liveness  loudness  speechiness    tempo  valence  \n0          0.000000    0.0973    -7.712       0.0274   82.471    0.712  \n1          0.000306    0.1040   -14.631       0.0440  127.689    0.409  \n2          0.000000    0.0940    -7.754       0.0883  129.878    0.672  \n3          0.000006    0.2290   -11.222       0.0743  107.066    0.664  \n4          0.000000    0.0902   -12.023       0.0430  120.626    0.236  ",
      "text/html": "<div>\n<style scoped>\n    .dataframe tbody tr th:only-of-type {\n        vertical-align: middle;\n    }\n\n    .dataframe tbody tr th {\n        vertical-align: top;\n    }\n\n    .dataframe thead th {\n        text-align: right;\n    }\n</style>\n<table border=\"1\" class=\"dataframe\">\n  <thead>\n    <tr style=\"text-align: right;\">\n      <th></th>\n      <th>genre</th>\n      <th>acousticness</th>\n      <th>danceability</th>\n      <th>duration_ms</th>\n      <th>energy</th>\n      <th>instrumentalness</th>\n      <th>liveness</th>\n      <th>loudness</th>\n      <th>speechiness</th>\n      <th>tempo</th>\n      <th>valence</th>\n    </tr>\n  </thead>\n  <tbody>\n    <tr>\n      <th>0</th>\n      <td>A Capella</td>\n      <td>0.780</td>\n      <td>0.616</td>\n      <td>223813</td>\n      <td>0.298</td>\n      <td>0.000000</td>\n      <td>0.0973</td>\n      <td>-7.712</td>\n      <td>0.0274</td>\n      <td>82.471</td>\n      <td>0.712</td>\n    </tr>\n    <tr>\n      <th>1</th>\n      <td>A Capella</td>\n      <td>0.973</td>\n      <td>0.484</td>\n      <td>154200</td>\n      <td>0.222</td>\n      <td>0.000306</td>\n      <td>0.1040</td>\n      <td>-14.631</td>\n      <td>0.0440</td>\n      <td>127.689</td>\n      <td>0.409</td>\n    </tr>\n    <tr>\n      <th>2</th>\n      <td>A Capella</td>\n      <td>0.802</td>\n      <td>0.717</td>\n      <td>137800</td>\n      <td>0.518</td>\n      <td>0.000000</td>\n      <td>0.0940</td>\n      <td>-7.754</td>\n      <td>0.0883</td>\n      <td>129.878</td>\n      <td>0.672</td>\n    </tr>\n    <tr>\n      <th>3</th>\n      <td>A Capella</td>\n      <td>0.302</td>\n      <td>0.691</td>\n      <td>183920</td>\n      <td>0.490</td>\n      <td>0.000006</td>\n      <td>0.2290</td>\n      <td>-11.222</td>\n      <td>0.0743</td>\n      <td>107.066</td>\n      <td>0.664</td>\n    </tr>\n    <tr>\n      <th>4</th>\n      <td>A Capella</td>\n      <td>0.599</td>\n      <td>0.389</td>\n      <td>181267</td>\n      <td>0.153</td>\n      <td>0.000000</td>\n      <td>0.0902</td>\n      <td>-12.023</td>\n      <td>0.0430</td>\n      <td>120.626</td>\n      <td>0.236</td>\n    </tr>\n  </tbody>\n</table>\n</div>"
     },
     "metadata": {},
     "execution_count": 61
    }
   ],
   "source": [
    "musicData.head()"
   ]
  },
  {
   "cell_type": "code",
   "execution_count": 62,
   "metadata": {},
   "outputs": [
    {
     "output_type": "execute_result",
     "data": {
      "text/plain": "genre                object\nacousticness        float64\ndanceability        float64\nduration_ms           int64\nenergy              float64\ninstrumentalness    float64\nliveness            float64\nloudness            float64\nspeechiness         float64\ntempo               float64\nvalence             float64\ndtype: object"
     },
     "metadata": {},
     "execution_count": 62
    }
   ],
   "source": [
    "musicData.dtypes"
   ]
  },
  {
   "cell_type": "code",
   "execution_count": 63,
   "metadata": {},
   "outputs": [
    {
     "output_type": "execute_result",
     "data": {
      "text/plain": "0          0\n1          0\n2          0\n3          0\n4          0\n          ..\n232720    25\n232721    25\n232722    25\n232723    25\n232724    25\nName: genre, Length: 232725, dtype: int8"
     },
     "metadata": {},
     "execution_count": 63
    }
   ],
   "source": [
    "# convert genre which is an object in the dataframe to a discrete value\n",
    "musicData['genre'] = pd.Categorical(musicData['genre'])\n",
    "musicData['genre'] = musicData.genre.cat.codes\n",
    "musicData['genre']"
   ]
  },
  {
   "cell_type": "code",
   "execution_count": 64,
   "metadata": {},
   "outputs": [
    {
     "output_type": "execute_result",
     "data": {
      "text/plain": "(232725, 11)"
     },
     "metadata": {},
     "execution_count": 64
    }
   ],
   "source": [
    "musicData.shape\n",
    "# 116363+116362"
   ]
  },
  {
   "cell_type": "code",
   "execution_count": 65,
   "metadata": {},
   "outputs": [
    {
     "output_type": "execute_result",
     "data": {
      "text/plain": "        genre  acousticness  danceability  duration_ms  energy  \\\n0           0        0.7800         0.616       223813  0.2980   \n2           0        0.8020         0.717       137800  0.5180   \n4           0        0.5990         0.389       181267  0.1530   \n6           0        0.6680         0.747       135107  0.5050   \n8           0        0.8350         0.583       175000  0.3180   \n...       ...           ...           ...          ...     ...   \n232716     25        0.8120         0.106       337787  0.1820   \n232718     25        0.8120         0.252       358573  0.2580   \n232720     25        0.9790         0.347       212373  0.0239   \n232722     25        0.0684         0.640       184960  0.5700   \n232724     25        0.0249         0.828       341600  0.5140   \n\n        instrumentalness  liveness  loudness  speechiness    tempo  valence  \n0                  0.000    0.0973    -7.712       0.0274   82.471   0.7120  \n2                  0.000    0.0940    -7.754       0.0883  129.878   0.6720  \n4                  0.000    0.0902   -12.023       0.0430  120.626   0.2360  \n6                  0.000    0.1010    -9.263       0.0746  122.177   0.7160  \n8                  0.000    0.1180    -8.252       0.0311   75.911   0.5100  \n...                  ...       ...       ...          ...      ...      ...  \n232716             0.949    0.1150   -20.766       0.0348  168.517   0.0372  \n232718             0.889    0.1070   -15.485       0.0336   81.059   0.0481  \n232720             0.925    0.1190   -33.799       0.0286   94.420   0.1540  \n232722             0.000    0.0709    -6.554       0.1590  180.146   0.3160  \n232724             0.608    0.0908   -12.453       0.0879  121.167   0.5370  \n\n[116363 rows x 11 columns]",
      "text/html": "<div>\n<style scoped>\n    .dataframe tbody tr th:only-of-type {\n        vertical-align: middle;\n    }\n\n    .dataframe tbody tr th {\n        vertical-align: top;\n    }\n\n    .dataframe thead th {\n        text-align: right;\n    }\n</style>\n<table border=\"1\" class=\"dataframe\">\n  <thead>\n    <tr style=\"text-align: right;\">\n      <th></th>\n      <th>genre</th>\n      <th>acousticness</th>\n      <th>danceability</th>\n      <th>duration_ms</th>\n      <th>energy</th>\n      <th>instrumentalness</th>\n      <th>liveness</th>\n      <th>loudness</th>\n      <th>speechiness</th>\n      <th>tempo</th>\n      <th>valence</th>\n    </tr>\n  </thead>\n  <tbody>\n    <tr>\n      <th>0</th>\n      <td>0</td>\n      <td>0.7800</td>\n      <td>0.616</td>\n      <td>223813</td>\n      <td>0.2980</td>\n      <td>0.000</td>\n      <td>0.0973</td>\n      <td>-7.712</td>\n      <td>0.0274</td>\n      <td>82.471</td>\n      <td>0.7120</td>\n    </tr>\n    <tr>\n      <th>2</th>\n      <td>0</td>\n      <td>0.8020</td>\n      <td>0.717</td>\n      <td>137800</td>\n      <td>0.5180</td>\n      <td>0.000</td>\n      <td>0.0940</td>\n      <td>-7.754</td>\n      <td>0.0883</td>\n      <td>129.878</td>\n      <td>0.6720</td>\n    </tr>\n    <tr>\n      <th>4</th>\n      <td>0</td>\n      <td>0.5990</td>\n      <td>0.389</td>\n      <td>181267</td>\n      <td>0.1530</td>\n      <td>0.000</td>\n      <td>0.0902</td>\n      <td>-12.023</td>\n      <td>0.0430</td>\n      <td>120.626</td>\n      <td>0.2360</td>\n    </tr>\n    <tr>\n      <th>6</th>\n      <td>0</td>\n      <td>0.6680</td>\n      <td>0.747</td>\n      <td>135107</td>\n      <td>0.5050</td>\n      <td>0.000</td>\n      <td>0.1010</td>\n      <td>-9.263</td>\n      <td>0.0746</td>\n      <td>122.177</td>\n      <td>0.7160</td>\n    </tr>\n    <tr>\n      <th>8</th>\n      <td>0</td>\n      <td>0.8350</td>\n      <td>0.583</td>\n      <td>175000</td>\n      <td>0.3180</td>\n      <td>0.000</td>\n      <td>0.1180</td>\n      <td>-8.252</td>\n      <td>0.0311</td>\n      <td>75.911</td>\n      <td>0.5100</td>\n    </tr>\n    <tr>\n      <th>...</th>\n      <td>...</td>\n      <td>...</td>\n      <td>...</td>\n      <td>...</td>\n      <td>...</td>\n      <td>...</td>\n      <td>...</td>\n      <td>...</td>\n      <td>...</td>\n      <td>...</td>\n      <td>...</td>\n    </tr>\n    <tr>\n      <th>232716</th>\n      <td>25</td>\n      <td>0.8120</td>\n      <td>0.106</td>\n      <td>337787</td>\n      <td>0.1820</td>\n      <td>0.949</td>\n      <td>0.1150</td>\n      <td>-20.766</td>\n      <td>0.0348</td>\n      <td>168.517</td>\n      <td>0.0372</td>\n    </tr>\n    <tr>\n      <th>232718</th>\n      <td>25</td>\n      <td>0.8120</td>\n      <td>0.252</td>\n      <td>358573</td>\n      <td>0.2580</td>\n      <td>0.889</td>\n      <td>0.1070</td>\n      <td>-15.485</td>\n      <td>0.0336</td>\n      <td>81.059</td>\n      <td>0.0481</td>\n    </tr>\n    <tr>\n      <th>232720</th>\n      <td>25</td>\n      <td>0.9790</td>\n      <td>0.347</td>\n      <td>212373</td>\n      <td>0.0239</td>\n      <td>0.925</td>\n      <td>0.1190</td>\n      <td>-33.799</td>\n      <td>0.0286</td>\n      <td>94.420</td>\n      <td>0.1540</td>\n    </tr>\n    <tr>\n      <th>232722</th>\n      <td>25</td>\n      <td>0.0684</td>\n      <td>0.640</td>\n      <td>184960</td>\n      <td>0.5700</td>\n      <td>0.000</td>\n      <td>0.0709</td>\n      <td>-6.554</td>\n      <td>0.1590</td>\n      <td>180.146</td>\n      <td>0.3160</td>\n    </tr>\n    <tr>\n      <th>232724</th>\n      <td>25</td>\n      <td>0.0249</td>\n      <td>0.828</td>\n      <td>341600</td>\n      <td>0.5140</td>\n      <td>0.608</td>\n      <td>0.0908</td>\n      <td>-12.453</td>\n      <td>0.0879</td>\n      <td>121.167</td>\n      <td>0.5370</td>\n    </tr>\n  </tbody>\n</table>\n<p>116363 rows × 11 columns</p>\n</div>"
     },
     "metadata": {},
     "execution_count": 65
    }
   ],
   "source": [
    "# Split data into training data and test data\n",
    "musicTrainingData = musicData.iloc[::2, :]\n",
    "musicTrainingData"
   ]
  },
  {
   "cell_type": "code",
   "execution_count": 66,
   "metadata": {},
   "outputs": [
    {
     "output_type": "execute_result",
     "data": {
      "text/plain": "        genre  acousticness  danceability  duration_ms  energy  \\\n1           0       0.97300         0.484       154200  0.2220   \n3           0       0.30200         0.691       183920  0.4900   \n5           0       0.79300         0.349       228147  0.0913   \n7           0       0.65600         0.705       159120  0.5700   \n9           0       0.36000         0.654       150027  0.4270   \n...       ...           ...           ...          ...     ...   \n232715     25       0.97800         0.133       162333  0.1690   \n232717     25       0.00202         0.413       250347  0.8360   \n232719     25       0.12100         0.634       220787  0.8660   \n232721     25       0.99500         0.373       101533  0.0270   \n232723     25       0.76100         0.365       216000  0.1230   \n\n        instrumentalness  liveness  loudness  speechiness    tempo  valence  \n1               0.000306    0.1040   -14.631       0.0440  127.689   0.4090  \n3               0.000006    0.2290   -11.222       0.0743  107.066   0.6640  \n5               0.000002    0.1410   -15.003       0.0396  120.405   0.1500  \n7               0.000000    0.0897    -7.124       0.0983   81.977   0.6520  \n9               0.000000    0.1500    -7.963       0.0379  125.390   0.8110  \n...                  ...       ...       ...          ...      ...      ...  \n232715          0.886000    0.0814   -15.312       0.0415   99.596   0.0313  \n232717          0.000000    0.0842    -4.867       0.0433  143.962   0.3030  \n232719          0.000001    0.0641    -4.987       0.1470  106.794   0.6530  \n232721          0.871000    0.0854   -17.503       0.0390  110.866   0.0905  \n232723          0.472000    0.1090   -18.600       0.0602   94.484   0.2420  \n\n[116362 rows x 11 columns]",
      "text/html": "<div>\n<style scoped>\n    .dataframe tbody tr th:only-of-type {\n        vertical-align: middle;\n    }\n\n    .dataframe tbody tr th {\n        vertical-align: top;\n    }\n\n    .dataframe thead th {\n        text-align: right;\n    }\n</style>\n<table border=\"1\" class=\"dataframe\">\n  <thead>\n    <tr style=\"text-align: right;\">\n      <th></th>\n      <th>genre</th>\n      <th>acousticness</th>\n      <th>danceability</th>\n      <th>duration_ms</th>\n      <th>energy</th>\n      <th>instrumentalness</th>\n      <th>liveness</th>\n      <th>loudness</th>\n      <th>speechiness</th>\n      <th>tempo</th>\n      <th>valence</th>\n    </tr>\n  </thead>\n  <tbody>\n    <tr>\n      <th>1</th>\n      <td>0</td>\n      <td>0.97300</td>\n      <td>0.484</td>\n      <td>154200</td>\n      <td>0.2220</td>\n      <td>0.000306</td>\n      <td>0.1040</td>\n      <td>-14.631</td>\n      <td>0.0440</td>\n      <td>127.689</td>\n      <td>0.4090</td>\n    </tr>\n    <tr>\n      <th>3</th>\n      <td>0</td>\n      <td>0.30200</td>\n      <td>0.691</td>\n      <td>183920</td>\n      <td>0.4900</td>\n      <td>0.000006</td>\n      <td>0.2290</td>\n      <td>-11.222</td>\n      <td>0.0743</td>\n      <td>107.066</td>\n      <td>0.6640</td>\n    </tr>\n    <tr>\n      <th>5</th>\n      <td>0</td>\n      <td>0.79300</td>\n      <td>0.349</td>\n      <td>228147</td>\n      <td>0.0913</td>\n      <td>0.000002</td>\n      <td>0.1410</td>\n      <td>-15.003</td>\n      <td>0.0396</td>\n      <td>120.405</td>\n      <td>0.1500</td>\n    </tr>\n    <tr>\n      <th>7</th>\n      <td>0</td>\n      <td>0.65600</td>\n      <td>0.705</td>\n      <td>159120</td>\n      <td>0.5700</td>\n      <td>0.000000</td>\n      <td>0.0897</td>\n      <td>-7.124</td>\n      <td>0.0983</td>\n      <td>81.977</td>\n      <td>0.6520</td>\n    </tr>\n    <tr>\n      <th>9</th>\n      <td>0</td>\n      <td>0.36000</td>\n      <td>0.654</td>\n      <td>150027</td>\n      <td>0.4270</td>\n      <td>0.000000</td>\n      <td>0.1500</td>\n      <td>-7.963</td>\n      <td>0.0379</td>\n      <td>125.390</td>\n      <td>0.8110</td>\n    </tr>\n    <tr>\n      <th>...</th>\n      <td>...</td>\n      <td>...</td>\n      <td>...</td>\n      <td>...</td>\n      <td>...</td>\n      <td>...</td>\n      <td>...</td>\n      <td>...</td>\n      <td>...</td>\n      <td>...</td>\n      <td>...</td>\n    </tr>\n    <tr>\n      <th>232715</th>\n      <td>25</td>\n      <td>0.97800</td>\n      <td>0.133</td>\n      <td>162333</td>\n      <td>0.1690</td>\n      <td>0.886000</td>\n      <td>0.0814</td>\n      <td>-15.312</td>\n      <td>0.0415</td>\n      <td>99.596</td>\n      <td>0.0313</td>\n    </tr>\n    <tr>\n      <th>232717</th>\n      <td>25</td>\n      <td>0.00202</td>\n      <td>0.413</td>\n      <td>250347</td>\n      <td>0.8360</td>\n      <td>0.000000</td>\n      <td>0.0842</td>\n      <td>-4.867</td>\n      <td>0.0433</td>\n      <td>143.962</td>\n      <td>0.3030</td>\n    </tr>\n    <tr>\n      <th>232719</th>\n      <td>25</td>\n      <td>0.12100</td>\n      <td>0.634</td>\n      <td>220787</td>\n      <td>0.8660</td>\n      <td>0.000001</td>\n      <td>0.0641</td>\n      <td>-4.987</td>\n      <td>0.1470</td>\n      <td>106.794</td>\n      <td>0.6530</td>\n    </tr>\n    <tr>\n      <th>232721</th>\n      <td>25</td>\n      <td>0.99500</td>\n      <td>0.373</td>\n      <td>101533</td>\n      <td>0.0270</td>\n      <td>0.871000</td>\n      <td>0.0854</td>\n      <td>-17.503</td>\n      <td>0.0390</td>\n      <td>110.866</td>\n      <td>0.0905</td>\n    </tr>\n    <tr>\n      <th>232723</th>\n      <td>25</td>\n      <td>0.76100</td>\n      <td>0.365</td>\n      <td>216000</td>\n      <td>0.1230</td>\n      <td>0.472000</td>\n      <td>0.1090</td>\n      <td>-18.600</td>\n      <td>0.0602</td>\n      <td>94.484</td>\n      <td>0.2420</td>\n    </tr>\n  </tbody>\n</table>\n<p>116362 rows × 11 columns</p>\n</div>"
     },
     "metadata": {},
     "execution_count": 66
    }
   ],
   "source": [
    "# Split data into training data and test data\n",
    "musicTestData = musicData.iloc[1::2, :]\n",
    "musicTestData"
   ]
  },
  {
   "cell_type": "code",
   "execution_count": 67,
   "metadata": {},
   "outputs": [],
   "source": [
    "# Batch and Shuffle Dataset\n",
    "# train_ds = tf.data.Dataset.from_tensor_slices()"
   ]
  },
  {
   "cell_type": "code",
   "execution_count": 68,
   "metadata": {},
   "outputs": [
    {
     "output_type": "execute_result",
     "data": {
      "text/plain": "array([[0.00000e+00, 7.80000e-01, 6.16000e-01, ..., 2.74000e-02,\n        8.24710e+01, 7.12000e-01],\n       [0.00000e+00, 8.02000e-01, 7.17000e-01, ..., 8.83000e-02,\n        1.29878e+02, 6.72000e-01],\n       [0.00000e+00, 5.99000e-01, 3.89000e-01, ..., 4.30000e-02,\n        1.20626e+02, 2.36000e-01],\n       ...,\n       [2.50000e+01, 9.79000e-01, 3.47000e-01, ..., 2.86000e-02,\n        9.44200e+01, 1.54000e-01],\n       [2.50000e+01, 6.84000e-02, 6.40000e-01, ..., 1.59000e-01,\n        1.80146e+02, 3.16000e-01],\n       [2.50000e+01, 2.49000e-02, 8.28000e-01, ..., 8.79000e-02,\n        1.21167e+02, 5.37000e-01]])"
     },
     "metadata": {},
     "execution_count": 68
    }
   ],
   "source": [
    "# Seperate feautures and Labels\n",
    "musicFeatures = musicTrainingData.copy()\n",
    "musicLabels = musicTrainingData.pop('genre')\n",
    "\n",
    "musicFeatures = np.array(musicFeatures)\n",
    "musicFeatures"
   ]
  },
  {
   "cell_type": "code",
   "execution_count": 69,
   "metadata": {},
   "outputs": [],
   "source": [
    "# train_loss = tf.keras.metrics.Mean(name='train_loss')\n",
    "# train_accuracy = tf.keras.metrics.SparseCategoricalAccuracy(name='train_accuracy')\n",
    "\n",
    "# test_loss = tf.keras.metrics.Mean(name='test_loss')\n",
    "# test_accuracy = tf.keras.metrics.SparseCategoricalAccuracy(name='test_accuracy')"
   ]
  },
  {
   "cell_type": "code",
   "execution_count": 74,
   "metadata": {},
   "outputs": [],
   "source": [
    "# TODO: Might need to change the model for higher accuracy, lower loss\n",
    "\n",
    "# Regression Model\n",
    "# Try single input tensor with keras.Sequential\n",
    "musicModel = tf.keras.Sequential([\n",
    "    layers.Dense(64),\n",
    "    layers.Dense(1)\n",
    "])\n",
    "\n",
    "musicModel.compile(\n",
    "    loss = tf.losses.MeanSquaredError(),\n",
    "    optimizer= tf.optimizers.Adam(),\n",
    "    metrics = tf.metrics.CategoricalCrossentropy()\n",
    "\n",
    "    # loss = tf.losses.SparseCategoricalCrossentropy, \n",
    "    # optimizer= tf.optimizers.RMSprop(),\n",
    "    # metrics= tf.metrics.SparseCategoricalAccuracy()\n",
    ")"
   ]
  },
  {
   "cell_type": "code",
   "execution_count": 75,
   "metadata": {
    "tags": []
   },
   "outputs": [
    {
     "output_type": "stream",
     "name": "stdout",
     "text": "Epoch 1/10\n3637/3637 [==============================] - 6s 2ms/step - loss: 1709170.3750 - categorical_crossentropy: 1.5216e-06\nEpoch 2/10\n3637/3637 [==============================] - 7s 2ms/step - loss: 253335.3281 - categorical_crossentropy: 1.5216e-06\nEpoch 3/10\n3637/3637 [==============================] - 7s 2ms/step - loss: 38210.5977 - categorical_crossentropy: 1.5216e-06\nEpoch 4/10\n3637/3637 [==============================] - 5s 1ms/step - loss: 84499.2656 - categorical_crossentropy: 1.5216e-06\nEpoch 5/10\n3637/3637 [==============================] - 5s 1ms/step - loss: 78242.1641 - categorical_crossentropy: 1.5216e-06\nEpoch 6/10\n3637/3637 [==============================] - 9s 2ms/step - loss: 190365.5938 - categorical_crossentropy: 1.5216e-06\nEpoch 7/10\n3637/3637 [==============================] - 6s 2ms/step - loss: 54403.6797 - categorical_crossentropy: 1.5216e-06\nEpoch 8/10\n3637/3637 [==============================] - 5s 1ms/step - loss: 126239.0469 - categorical_crossentropy: 1.5216e-06\nEpoch 9/10\n3637/3637 [==============================] - 5s 1ms/step - loss: 45768.7773 - categorical_crossentropy: 1.5216e-06\nEpoch 10/10\n3637/3637 [==============================] - 5s 1ms/step - loss: 85887.2734 - categorical_crossentropy: 1.5216e-06\n"
    },
    {
     "output_type": "execute_result",
     "data": {
      "text/plain": "<tensorflow.python.keras.callbacks.History at 0x14018aaf0>"
     },
     "metadata": {},
     "execution_count": 75
    }
   ],
   "source": [
    "# Train model\n",
    "musicModel.fit(musicFeatures, musicLabels, epochs=10)"
   ]
  },
  {
   "cell_type": "code",
   "execution_count": 76,
   "metadata": {
    "tags": []
   },
   "outputs": [
    {
     "output_type": "stream",
     "name": "stdout",
     "text": "Epoch 1/10\n3637/3637 [==============================] - 10s 3ms/step - loss: 198553.2188 - categorical_crossentropy: 1.5216e-06\nEpoch 2/10\n3637/3637 [==============================] - 13s 4ms/step - loss: 26868.7168 - categorical_crossentropy: 1.5216e-06\nEpoch 3/10\n3637/3637 [==============================] - 9s 3ms/step - loss: 941514.1250 - categorical_crossentropy: 1.5216e-06\nEpoch 4/10\n3637/3637 [==============================] - 7s 2ms/step - loss: 3665.2515 - categorical_crossentropy: 1.5216e-06\nEpoch 5/10\n3637/3637 [==============================] - 10s 3ms/step - loss: 97610.5781 - categorical_crossentropy: 1.5216e-06\nEpoch 6/10\n3637/3637 [==============================] - 7s 2ms/step - loss: 110473.3828 - categorical_crossentropy: 1.5216e-06\nEpoch 7/10\n3637/3637 [==============================] - 8s 2ms/step - loss: 84753.6406 - categorical_crossentropy: 1.5216e-06\nEpoch 8/10\n3637/3637 [==============================] - 8s 2ms/step - loss: 529058.3125 - categorical_crossentropy: 1.5216e-06\nEpoch 9/10\n3637/3637 [==============================] - 6s 2ms/step - loss: 59697.6367 - categorical_crossentropy: 1.5216e-06\nEpoch 10/10\n3637/3637 [==============================] - 8s 2ms/step - loss: 969816.0625 - categorical_crossentropy: 1.5216e-06\n"
    },
    {
     "output_type": "execute_result",
     "data": {
      "text/plain": "<tensorflow.python.keras.callbacks.History at 0x13ed418b0>"
     },
     "metadata": {},
     "execution_count": 76
    }
   ],
   "source": [
    "# Test model\n",
    "musicFeatures = musicTestData.copy()\n",
    "musicLabels = musicTestData.pop('genre')\n",
    "\n",
    "musicModel.fit(musicFeatures, musicLabels, epochs=10)"
   ]
  }
 ]
}